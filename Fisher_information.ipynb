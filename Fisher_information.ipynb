{
 "cells": [
  {
   "cell_type": "markdown",
   "metadata": {},
   "source": [
    "# Fisher Information\n",
    "\n",
    "a collection of methods in order to calculate the fisher matrix"
   ]
  },
  {
   "cell_type": "code",
   "execution_count": 1,
   "metadata": {},
   "outputs": [],
   "source": [
    "import classy as cl\n",
    "from classy import Class\n",
    "import numpy as np\n",
    "import matplotlib.pyplot as plt\n",
    "import pickle\n",
    "import math\n",
    "import copy\n",
    "\n",
    "pi = np.pi"
   ]
  },
  {
   "cell_type": "code",
   "execution_count": 2,
   "metadata": {},
   "outputs": [],
   "source": [
    "def quick_Pk_zbins(VolGpc, z_bins, k_MAX=0.7, add={'N_ur':3.046}):\n",
    "    z_string=''\n",
    "    for elem in z_bins[:-1]:\n",
    "        z_string+=str(elem)+','\n",
    "    z_string+=str(z_bins[-1])\n",
    "    k_MIN_Gpc=2*np.pi/float(VolGpc)**(1/3.)\n",
    "    k_MIN = k_MIN_Gpc*10**(-3)\n",
    "    \n",
    "    k_array = np.arange(k_MIN, k_MAX, k_MIN)\n",
    "    #define a dictionary with the parameters of desired cosmology\n",
    "    params = {\n",
    "            'output': 'tCl pCl lCl mPk',\n",
    "            'l_max_scalars': 5000,\n",
    "            'lensing': 'yes',\n",
    "            'A_s': 2.1e-9,\n",
    "            'n_s': 0.9667,\n",
    "            '100*theta_s': 1.04112,\n",
    "            'omega_b':0.02230,\n",
    "            'omega_cdm': 0.1188,\n",
    "            'tau_reio': 0.066,\n",
    "            'N_ur': 3.046\n",
    "    }\n",
    "    for key in add.keys():\n",
    "        params[key] = add[key]\n",
    "    params['z_pk'] = z_string\n",
    "    Pk = {}\n",
    "    cosmo = Class()\n",
    "    cosmo.set(params)\n",
    "    cosmo.compute()\n",
    "    h = cosmo.h()\n",
    "    #there's no xrange in Python3\n",
    "    for z_k in z_bins:\n",
    "        Pk[z_k] = np.zeros(len(k_array))\n",
    "        for i in range(len(k_array)):\n",
    "            Pk[z_k][i] = cosmo.pk(h*k_array[i], z_k)*h**3\n",
    "    cosmo.struct_cleanup()\n",
    "    cosmo.empty()\n",
    "    return Pk,k_array,params"
   ]
  },
  {
   "cell_type": "code",
   "execution_count": 3,
   "metadata": {},
   "outputs": [],
   "source": [
    "def derivative(parameters, step_sizes, VolGpc, z_bins, k_MAX):\n",
    "    \"\"\"\n",
    "    Parameters\n",
    "    ---------\n",
    "    parameters : dictionary\n",
    "        contains the values of the parameters that will be used\n",
    "        to calculate the derivative\n",
    "    step_sizes : dictionary\n",
    "        contains the sizes of the steps that will be taken when\n",
    "        computing the different cosmos.\n",
    "    VolGpc : number\n",
    "        the value for the volume of the galaxy survey which will\n",
    "        be used as a parameter for quick_Pk_zbins\n",
    "    z_bins : list\n",
    "        the different bins of the redshift which will be used as\n",
    "        a parameter for quick_Pk_zbins\n",
    "    k_MAX : number\n",
    "        the maximum k value which will be used to calculate the\n",
    "        power spectrum in quick_Pk_zbins\n",
    "                \n",
    "    Returns\n",
    "    ------\n",
    "    partials : dictionary\n",
    "        contains a dictionary of dictionaries where the first\n",
    "        key value represents the redshift 'z' and then the\n",
    "        second key value represents the different parameters\n",
    "        which were stepped over for the derivative; the values\n",
    "        of the inner dictionary are arrays which are the\n",
    "        derivatives for the specified ks\n",
    "    k_array : array\n",
    "        contains the different k values for the power spectrum\n",
    "                \n",
    "    Function used to calculate the numerical derivative:\n",
    "                f'(param) = (f(param+h)-f(param-h))/(2h)\n",
    "        where h is the step size of some parameter param\n",
    "    \"\"\"\n",
    "    \n",
    "    partials = {}\n",
    "    #NOTE: This may be slow due to the z_bins being the outer loop\n",
    "    for z in z_bins:\n",
    "        add = {} #a parameter for quick_Pk_zbins\n",
    "        partials[z] = {}\n",
    "        for elem in step_sizes:\n",
    "            h = step_sizes[elem] #step size, not to be confused with Hubble constant\n",
    "            add[elem] = parameters[elem] + h\n",
    "            Pk_1, k_array, params_1 = quick_Pk_zbins(VolGpc, z_bins, k_MAX, add)\n",
    "\n",
    "            add[elem] = parameters[elem] - h\n",
    "            Pk_2, k_array, params_2 = quick_Pk_zbins(VolGpc, z_bins, k_MAX, add)\n",
    "            \n",
    "            add = {} #reset the dictionary\n",
    "            \n",
    "            partials[z][elem] = (Pk_1[z] - Pk_2[z])/(2*h)\n",
    "    return partials, k_array"
   ]
  },
  {
   "cell_type": "markdown",
   "metadata": {},
   "source": [
    "With the derivative function, I want to run it only once as long as the step sizes for the parameters doesn't change. I can do this by pickling the resulting output and then using that in other functions."
   ]
  },
  {
   "cell_type": "markdown",
   "metadata": {},
   "source": [
    "The equation used to calculate the fisher matrix is given below:"
   ]
  },
  {
   "cell_type": "markdown",
   "metadata": {},
   "source": [
    "$$F_{ij} = \\int_{k_{min}}^{k_{max}} \\frac{dk k^2}{(2\\pi)^2} \\frac{\\partial P(k)}{\\partial \\theta_i} \\frac{\\partial P(k)}{\\partial \\theta_j} V_{eff}(k)$$"
   ]
  },
  {
   "cell_type": "markdown",
   "metadata": {},
   "source": [
    "where $$V_{eff}(k) \\approx \\left[ \\frac{1}{P_g(k) + 1/\\bar{n_g}} \\right]^2 V$$"
   ]
  },
  {
   "cell_type": "code",
   "execution_count": 4,
   "metadata": {},
   "outputs": [],
   "source": [
    "def fisher_information(step_sizes, derivatives, Pk, k_array, z, galaxy_density, VolGpc, b):\n",
    "    \"\"\"\n",
    "    Parameters\n",
    "    ---------\n",
    "    step_sizes : dictionary\n",
    "        contains the different parameters that we will be\n",
    "        concerned with\n",
    "    derivatives : dictionary\n",
    "        contains the derivatives of the power spectrum with\n",
    "        respect to the parameters in step_sizes\n",
    "    Pk : dictionary\n",
    "        contains the power spectrum for the different\n",
    "        redshift values\n",
    "    k_array : list\n",
    "        all the associated k values in the power spectrum\n",
    "        derivatives\n",
    "    z : number\n",
    "        the redshift value we are concerned with\n",
    "    galaxy_density : number\n",
    "        the average number of galaxies per unit volume\n",
    "    VolGpc : number\n",
    "        the volume of the survey\n",
    "                \n",
    "    Returns\n",
    "    ------\n",
    "    fisher : dictionary\n",
    "        contains more dictionaries inside where each one will\n",
    "        represent a row in 2D matrix, due to the symmetry of\n",
    "        matrix, the order of calling row or col should result\n",
    "        in the same value being returned\n",
    "    \"\"\"\n",
    "    \n",
    "    fisher = {} #initialize the fisher matrix (dictionary) to return\n",
    "    k_min = k_array[0]\n",
    "    for row in step_sizes:\n",
    "        fisher[row] = {}\n",
    "        for col in step_sizes:\n",
    "            value = 0\n",
    "            for k in range(len(k_array)):\n",
    "                V_eff = (Pk[z][k]*(b**2) + 1/galaxy_density)**(-2.)*VolGpc*(10**9)\n",
    "                value += k_min*((k_array[k])**2)/((2*pi)**2)*derivatives[z][row][k]*derivatives[z][col][k]*V_eff\n",
    "            fisher[row][col] = value\n",
    "    return fisher"
   ]
  },
  {
   "cell_type": "code",
   "execution_count": 5,
   "metadata": {},
   "outputs": [],
   "source": [
    "def matrix_maker(pseudo_matrix):\n",
    "    \"\"\"\n",
    "    Parameters\n",
    "    ---------\n",
    "    pseudo_matrix : dictionary\n",
    "        contains keys indicating the index of the row and the\n",
    "        values are nested dictionaries with their keys\n",
    "        indicating the index of the column and their values\n",
    "        being the actual value in the matrix\n",
    "        \n",
    "    Returns\n",
    "    ------\n",
    "    actual_matrix : matrix\n",
    "        a numpy matrix\n",
    "    indices : list\n",
    "        contains the order of each index of the matrix    \n",
    "    \"\"\"\n",
    "    \n",
    "    size = len(pseudo_matrix)\n",
    "    matrix = np.zeros((size, size))\n",
    "    \n",
    "    indices = []\n",
    "    for row, i in zip(pseudo_matrix, range(size)):\n",
    "        indices.append(row)\n",
    "        for col, j in zip(pseudo_matrix[row], range(size)):\n",
    "            matrix[i][j] = pseudo_matrix[row][col]\n",
    "    actual_matrix = np.matrix(matrix)\n",
    "    return actual_matrix, indices"
   ]
  },
  {
   "cell_type": "code",
   "execution_count": 6,
   "metadata": {},
   "outputs": [],
   "source": [
    "def find_sigma(fisher, indices):\n",
    "    \"\"\"\n",
    "    Parameters\n",
    "    ---------\n",
    "    fisher : matrix\n",
    "        a numpy matrix\n",
    "    indices : list\n",
    "        contains the order of each index of the matrix\n",
    "    \n",
    "    Returns\n",
    "    ------\n",
    "    sigma : dictionary\n",
    "        contains the list of all the parameters and their\n",
    "        associated error\n",
    "    \"\"\"\n",
    "    \n",
    "    sigma = {}\n",
    "    print('Determinant : ' + str(np.linalg.det(fisher)))\n",
    "    cov = fisher.I\n",
    "    \n",
    "    for index, i in zip(indices, range(len(fisher))):\n",
    "        sigma[index] = str((cov.item((i, i)))**(1/2))\n",
    "        print('Error for ' + index + ' is : ' + sigma[index])\n",
    "    return sigma"
   ]
  },
  {
   "cell_type": "markdown",
   "metadata": {},
   "source": [
    "# Stochastic Bias"
   ]
  },
  {
   "cell_type": "markdown",
   "metadata": {},
   "source": [
    "In the following section, I will include a stochastic bias which modifies the power spectrum output by classy"
   ]
  },
  {
   "cell_type": "markdown",
   "metadata": {},
   "source": [
    "$$P_g(k) = b^2 P_{CLASS}(k)$$"
   ]
  },
  {
   "cell_type": "markdown",
   "metadata": {},
   "source": [
    "To include a new parameter b, all the other derivatives will be multiplied by $b^2$. Analytically, I can find the derivative with respect to b, due to the simplicity of the polynomial in b."
   ]
  },
  {
   "cell_type": "markdown",
   "metadata": {},
   "source": [
    "$$\\frac{\\partial P_g(k)}{\\partial b} = 2b P_{CLASS}(k)$$"
   ]
  },
  {
   "cell_type": "code",
   "execution_count": 7,
   "metadata": {},
   "outputs": [],
   "source": [
    "def add_bias_derivative(parameters, derivatives, b, VolGpc, z_bins, k_MAX):\n",
    "    \"\"\"\n",
    "    Parameters\n",
    "    ---------\n",
    "    parameters : dictionary\n",
    "        contains the values of the parameters that will be used\n",
    "        to calculate the derivative\n",
    "    derivatives : dictionary\n",
    "        the derivatives dictionary before considering the bias\n",
    "    b : number\n",
    "        the bias\n",
    "    VolGpc : number\n",
    "        the value for the volume of the galaxy survey which will\n",
    "        be used as a parameter for quick_Pk_zbins\n",
    "    z_bins : list\n",
    "        the different bins of the redshift which will be used as\n",
    "        a parameter for quick_Pk_zbins\n",
    "    k_MAX : number\n",
    "        the maximum k value which will be used to calculate the\n",
    "        power spectrum in quick_Pk_zbins\n",
    "    \n",
    "    Returns\n",
    "    -------\n",
    "    derivatives : dictionary\n",
    "        an updated dictionary with the bias included\n",
    "    \"\"\"\n",
    "    db = copy.deepcopy(derivatives)\n",
    "    for z in db:\n",
    "        for param in db[z]:\n",
    "            db[z][param] *= (b**2)\n",
    "    Pk, k_array, params = quick_Pk_zbins(VolGpc, z_bins, k_MAX)\n",
    "    for z in z_bins:\n",
    "        derivative_b = 2*b*Pk[z]\n",
    "        db[z]['b'] = derivative_b\n",
    "    return db"
   ]
  },
  {
   "cell_type": "markdown",
   "metadata": {},
   "source": [
    "In the following methods, I will combine previous methods into a single method, so that I can make a single call with all the parameters and get the fisher matrix and errors without having to go through every step."
   ]
  },
  {
   "cell_type": "code",
   "execution_count": 8,
   "metadata": {},
   "outputs": [],
   "source": [
    "def fisher_sim_all(parameters, step_sizes, vol_Gpc, num_gal, z_bins, k_max):\n",
    "    derivatives, k_array = derivative(parameters, step_sizes, vol_Gpc, z_bins, k_max)\n",
    "    Pk, k_array, params = quick_Pk_zbins(vol_Gpc, z_bins, k_max)\n",
    "    \n",
    "    #simple so bias b = 1\n",
    "    b = 1\n",
    "    galaxy_density = num_gal/(vol_Gpc*(10**9))\n",
    "    fisher = fisher_information(step_sizes, derivatives, Pk, k_array, z, galaxy_density, vol_Gpc, b)\n",
    "    matrix, indices = matrix_maker(fisher)\n",
    "    print(matrix)\n",
    "    sigma = find_sigma(matrix, indices)\n",
    "    \n",
    "    return fisher, derivatives, sigma\n",
    "    "
   ]
  },
  {
   "cell_type": "code",
   "execution_count": 9,
   "metadata": {},
   "outputs": [],
   "source": [
    "def fisher_bias_all(parameters, step_sizes, vol_Gpc, num_gal, z_bins, k_max, b):\n",
    "    derivatives, k_array = derivative(parameters, step_sizes, vol_Gpc, z_bins, k_max)\n",
    "    Pk, k_array, params = quick_Pk_zbins(vol_Gpc, z_bins, k_max)\n",
    "    \n",
    "    ss = copy.deepcopy(step_sizes)\n",
    "    derivatives_b = add_bias_derivative(parameters, derivatives, b, vol_Gpc, z_bins, k_max)\n",
    "    ss['b'] = 0\n",
    "    \n",
    "    galaxy_density = num_gal/(vol_Gpc*(10**9))\n",
    "    fisher = fisher_information(ss, derivatives_b, Pk, k_array, z, galaxy_density, vol_Gpc, b)\n",
    "    matrix, indices = matrix_maker(fisher)\n",
    "    print(matrix)\n",
    "    sigma = find_sigma(matrix, indices)\n",
    "    \n",
    "    return fisher, derivatives, sigma, ss\n",
    "    "
   ]
  },
  {
   "cell_type": "code",
   "execution_count": 10,
   "metadata": {},
   "outputs": [],
   "source": [
    "def fisher_sim_qk(derivatives, parameters, step_sizes, vol_Gpc, num_gal, z_bins, k_max):\n",
    "    Pk, k_array, params = quick_Pk_zbins(vol_Gpc, z_bins, k_max)\n",
    "    \n",
    "    #simple so bias b = 1\n",
    "    b = 1\n",
    "    galaxy_density = num_gal/(vol_Gpc*(10**9))\n",
    "    fisher = fisher_information(step_sizes, derivatives, Pk, k_array, z, galaxy_density, vol_Gpc, b)\n",
    "    matrix, indices = matrix_maker(fisher)\n",
    "    print(matrix)\n",
    "    sigma = find_sigma(matrix, indices)\n",
    "    \n",
    "    return fisher, derivatives, sigma\n",
    "    "
   ]
  },
  {
   "cell_type": "code",
   "execution_count": 11,
   "metadata": {},
   "outputs": [],
   "source": [
    "def fisher_bias_qk(derivatives, parameters, step_sizes, vol_Gpc, num_gal, z_bins, k_max, b):\n",
    "    Pk, k_array, params = quick_Pk_zbins(vol_Gpc, z_bins, k_max)\n",
    "    \n",
    "    ss = copy.deepcopy(step_sizes)\n",
    "    derivatives_b = add_bias_derivative(parameters, derivatives, b, vol_Gpc, z_bins, k_max)\n",
    "    ss['b'] = 0\n",
    "    \n",
    "    galaxy_density = num_gal/(vol_Gpc*(10**9))\n",
    "    fisher = fisher_information(ss, derivatives_b, Pk, k_array, z, galaxy_density, vol_Gpc, b)\n",
    "    matrix, indices = matrix_maker(fisher)\n",
    "    print(matrix)\n",
    "    sigma = find_sigma(matrix, indices)\n",
    "    \n",
    "    return fisher, derivatives, sigma, ss\n",
    "    "
   ]
  },
  {
   "cell_type": "markdown",
   "metadata": {},
   "source": [
    "## Initial parameters we care about:"
   ]
  },
  {
   "cell_type": "code",
   "execution_count": 12,
   "metadata": {},
   "outputs": [],
   "source": [
    "step_sizes = {\n",
    "    'A_s': 1e-10,\n",
    "    'N_ur': 0.06,\n",
    "    'tau_reio': 0.02,\n",
    "    'n_s': 0.01,\n",
    "    '100*theta_s': 0.002,\n",
    "    'omega_b': 0.0008,\n",
    "    'omega_cdm': 0.002\n",
    "}\n",
    "parameters = {\n",
    "        'output': 'tCl pCl lCl mPk',\n",
    "        'l_max_scalars': 5000,\n",
    "        'lensing': 'yes',\n",
    "        'A_s': 2.1e-9,\n",
    "        'n_s': 0.9667,\n",
    "        '100*theta_s': 1.04112,\n",
    "        'omega_b':0.02230,\n",
    "        'omega_cdm': 0.1188,\n",
    "        'tau_reio': 0.066,\n",
    "        'N_ur': 3.046\n",
    "}\n",
    "vol_Gpc = 200\n",
    "num_gal = 2e9\n",
    "z_bins = [0] #redshift values\n",
    "k_max = 0.7\n",
    "z = 0 #choosing redshift of zero\n",
    "galaxy_density = 1e-2 #number of galaxies in a Megaparsec^3"
   ]
  },
  {
   "cell_type": "code",
   "execution_count": 13,
   "metadata": {},
   "outputs": [
    {
     "name": "stdout",
     "output_type": "stream",
     "text": [
      "[[ 7.26198046e+25 -2.71046168e+16 -2.82066854e+14  2.79641776e+17\n",
      "  -9.50776322e+15 -2.73853807e+18  2.25751223e+18]\n",
      " [-2.71046168e+16  1.05639031e+07  1.06251890e+05 -1.08112714e+08\n",
      "   1.52919618e+07  1.04966205e+09 -8.69413844e+08]\n",
      " [-2.82066854e+14  1.06251890e+05  1.21832222e+03 -1.10164962e+06\n",
      "   5.79079293e+04  1.07053380e+07 -8.83325951e+06]\n",
      " [ 2.79641776e+17 -1.08112714e+08 -1.10164962e+06  1.12317772e+09\n",
      "  -1.21143175e+08 -1.08133938e+10  8.93524282e+09]\n",
      " [-9.50776322e+15  1.52919618e+07  5.79079293e+04 -1.21143175e+08\n",
      "   3.23844562e+08  1.03940736e+09 -9.81498466e+08]\n",
      " [-2.73853807e+18  1.04966205e+09  1.07053380e+07 -1.08133938e+10\n",
      "   1.03940736e+09  1.05159744e+11 -8.68472159e+10]\n",
      " [ 2.25751223e+18 -8.69413844e+08 -8.83325951e+06  8.93524282e+09\n",
      "  -9.81498466e+08 -8.68472159e+10  7.18119435e+10]]\n",
      "Determinant : 9.708434613860816e+59\n",
      "Error for A_s is : 1.1683762593945624e-11\n",
      "Error for N_ur is : 0.15153930002749114\n",
      "Error for tau_reio is : 0.09329895858257992\n",
      "Error for n_s is : 0.0016398502819213183\n",
      "Error for 100*theta_s is : 0.001103729060124405\n",
      "Error for omega_b is : 0.0005334434445015069\n",
      "Error for omega_cdm is : 0.0028964824859614856\n"
     ]
    }
   ],
   "source": [
    "fisher, derivatives, sigma = fisher_sim_all(parameters, step_sizes, vol_Gpc, num_gal, z_bins, k_max)"
   ]
  },
  {
   "cell_type": "markdown",
   "metadata": {},
   "source": [
    "Note that in the following cell, I am using a different list for the step sizes where I have removed A_s because it is degenerate with the bias b. If I were to keep it, one of the eigenvalues would be zero, but with the computer precision, it was setting it to a very small negative number. This negative number then made the determinant negative, so when I tried to take the square root of the diagonal entries of the inverted matrix, it gave me imaginary numbers."
   ]
  },
  {
   "cell_type": "code",
   "execution_count": 14,
   "metadata": {},
   "outputs": [
    {
     "name": "stdout",
     "output_type": "stream",
     "text": [
      "[[ 1.59494293e+07  1.60491648e+05 -1.64843539e+08  2.68441978e+07\n",
      "   1.58047535e+09 -1.30999904e+09 -9.47928511e+07]\n",
      " [ 1.60491648e+05  1.82227259e+03 -1.67462154e+06  1.67762050e+05\n",
      "   1.60618443e+07 -1.32768388e+07 -9.77342418e+05]\n",
      " [-1.64843539e+08 -1.67462154e+06  1.72297714e+09 -2.40877734e+08\n",
      "  -1.64100040e+10  1.35789116e+10  9.84806899e+08]\n",
      " [ 2.68441978e+07  1.67762050e+05 -2.40877734e+08  3.80219164e+08\n",
      "   2.12688619e+09 -1.89808389e+09 -8.19581123e+07]\n",
      " [ 1.58047535e+09  1.60618443e+07 -1.64100040e+10  2.12688619e+09\n",
      "   1.57570116e+11 -1.30320672e+11 -9.51170150e+09]\n",
      " [-1.30999904e+09 -1.32768388e+07  1.35789116e+10 -1.89808389e+09\n",
      "  -1.30320672e+11  1.07882075e+11  7.85542470e+09]\n",
      " [-9.47928511e+07 -9.77342418e+05  9.84806899e+08 -8.19581123e+07\n",
      "  -9.51170150e+09  7.85542470e+09  5.82255971e+08]]\n",
      "Determinant : 2.487370212404528e+43\n",
      "Error for N_ur is : 0.1373656387273556\n",
      "Error for tau_reio is : 0.07668316163405721\n",
      "Error for n_s is : 0.0014202383759516048\n",
      "Error for 100*theta_s is : 0.0010498048003447194\n",
      "Error for omega_b is : 0.000474205611937127\n",
      "Error for omega_cdm is : 0.002581341958350221\n",
      "Error for b is : 0.004374983256821499\n"
     ]
    }
   ],
   "source": [
    "step_sizes_b = {\n",
    "    'N_ur': 0.06,\n",
    "    'tau_reio': 0.02,\n",
    "    'n_s': 0.01,\n",
    "    '100*theta_s': 0.002,\n",
    "    'omega_b': 0.0008,\n",
    "    'omega_cdm': 0.002\n",
    "}\n",
    "\n",
    "b = 1.79\n",
    "fisher, derivatives, sigma, step_sizes_bias = fisher_bias_all(parameters, step_sizes_b, vol_Gpc, num_gal, z_bins, k_max, b)"
   ]
  },
  {
   "cell_type": "code",
   "execution_count": null,
   "metadata": {},
   "outputs": [],
   "source": []
  }
 ],
 "metadata": {
  "kernelspec": {
   "display_name": "Python 3",
   "language": "python",
   "name": "python3"
  },
  "language_info": {
   "codemirror_mode": {
    "name": "ipython",
    "version": 3
   },
   "file_extension": ".py",
   "mimetype": "text/x-python",
   "name": "python",
   "nbconvert_exporter": "python",
   "pygments_lexer": "ipython3",
   "version": "3.7.3"
  }
 },
 "nbformat": 4,
 "nbformat_minor": 2
}
