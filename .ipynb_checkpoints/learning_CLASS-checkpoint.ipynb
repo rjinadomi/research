{
 "cells": [
  {
   "cell_type": "code",
   "execution_count": 1,
   "metadata": {},
   "outputs": [],
   "source": [
    "import classy as cl\n",
    "from classy import Class\n",
    "import numpy as np\n",
    "import matplotlib.pyplot as plt"
   ]
  },
  {
   "cell_type": "code",
   "execution_count": 2,
   "metadata": {},
   "outputs": [],
   "source": [
    "cosmo = Class()\n",
    "cosmo.set({'output':'tCl, pCl, lCl', 'lensing':'yes'})\n",
    "cosmo.compute()"
   ]
  },
  {
   "cell_type": "code",
   "execution_count": 3,
   "metadata": {},
   "outputs": [
    {
     "name": "stdout",
     "output_type": "stream",
     "text": [
      "[   2    3    4 ... 2498 2499 2500]\n",
      "{'tt': array([0.00000000e+00, 0.00000000e+00, 1.56602399e-10, ...,\n",
      "       1.02200915e-17, 1.01820812e-17, 1.01443143e-17]), 'ee': array([0.00000000e+00, 0.00000000e+00, 7.65424447e-15, ...,\n",
      "       3.74715724e-19, 3.74768293e-19, 3.74816462e-19]), 'te': array([ 0.00000000e+00,  0.00000000e+00,  5.04243543e-13, ...,\n",
      "       -4.00351858e-19, -4.00415126e-19, -4.00542686e-19]), 'bb': array([0.00000000e+00, 0.00000000e+00, 2.50160953e-19, ...,\n",
      "       3.43927234e-21, 3.43161950e-21, 3.42398328e-21]), 'pp': array([0.00000000e+00, 0.00000000e+00, 9.03616674e-09, ...,\n",
      "       1.28317075e-22, 1.27970985e-22, 1.27625928e-22]), 'tp': array([0.00000000e+00, 0.00000000e+00, 5.08390541e-10, ...,\n",
      "       2.53428206e-23, 2.54326375e-23, 2.55230183e-23]), 'ell': array([   0,    1,    2, ..., 2498, 2499, 2500])}\n",
      "{'tt': array([0.00000000e+00, 0.00000000e+00, 1.56601889e-10, ...,\n",
      "       9.46193803e-18, 9.41643186e-18, 9.37134721e-18]), 'ee': array([0.00000000e+00, 0.00000000e+00, 7.65399431e-15, ...,\n",
      "       3.66664395e-19, 3.67907532e-19, 3.69137878e-19]), 'te': array([ 0.00000000e+00,  0.00000000e+00,  5.04243549e-13, ...,\n",
      "       -2.21547612e-19, -2.23416722e-19, -2.25412988e-19]), 'bb': array([0., 0., 0., ..., 0., 0., 0.]), 'pp': array([0.00000000e+00, 0.00000000e+00, 9.03616674e-09, ...,\n",
      "       1.28316447e-22, 1.27970216e-22, 1.27625015e-22]), 'tp': array([0.00000000e+00, 0.00000000e+00, 5.08390541e-10, ...,\n",
      "       2.53424373e-23, 2.54321680e-23, 2.55224609e-23]), 'ell': array([   0,    1,    2, ..., 2498, 2499, 2500])}\n"
     ]
    }
   ],
   "source": [
    "l = np.array(range(2, 2501))\n",
    "factor = l *(l+1)/(2*np.pi)\n",
    "lensed_cl = cosmo.lensed_cl(2500)\n",
    "raw_cl = cosmo.raw_cl(2500)\n",
    "print(l)\n",
    "print(lensed_cl)\n",
    "print(raw_cl)"
   ]
  },
  {
   "cell_type": "code",
   "execution_count": 6,
   "metadata": {},
   "outputs": [
    {
     "name": "stdout",
     "output_type": "stream",
     "text": [
      "dict_keys(['tt', 'ee', 'te', 'bb', 'pp', 'tp', 'ell'])\n",
      "[   0    1    2 ... 2498 2499 2500]\n"
     ]
    }
   ],
   "source": [
    "print(lensed_cl.keys())\n",
    "print(lensed_cl['ell'])"
   ]
  },
  {
   "cell_type": "code",
   "execution_count": 10,
   "metadata": {},
   "outputs": [
    {
     "data": {
      "image/png": "[encoded data removed]",
      "text/plain": [
       "<Figure size 432x288 with 1 Axes>"
      ]
     },
     "metadata": {
      "needs_background": "light"
     },
     "output_type": "display_data"
    }
   ],
   "source": [
    "plt.loglog(l, factor*lensed_cl['tt'][2:])\n",
    "#plt.loglog(l, factor*raw_cl['tt'][2:], 'r-')\n",
    "plt.xlabel(r\"$\\ell$\")\n",
    "plt.ylabel(r\"$\\ell(\\ell+1)/(2\\pi) C_\\ell$\")\n",
    "plt.tight_layout()"
   ]
  },
  {
   "cell_type": "code",
   "execution_count": 7,
   "metadata": {},
   "outputs": [],
   "source": [
    "params = {\n",
    "    'output': 'tCl lCl',\n",
    "    'l_max_scalars': 2000,\n",
    "    'lensing': 'yes',\n",
    "    'A_s': 2.3e-9,\n",
    "    'n_s': 0.9624,\n",
    "    'h': 0.6711,\n",
    "    'omega_b': 0.022068,\n",
    "    'omega_cdm': 0.12029}"
   ]
  },
  {
   "cell_type": "code",
   "execution_count": 8,
   "metadata": {},
   "outputs": [],
   "source": [
    "cosmo = Class()"
   ]
  },
  {
   "cell_type": "code",
   "execution_count": 9,
   "metadata": {},
   "outputs": [
    {
     "data": {
      "text/plain": [
       "True"
      ]
     },
     "execution_count": 9,
     "metadata": {},
     "output_type": "execute_result"
    }
   ],
   "source": [
    "cosmo.set(params)"
   ]
  },
  {
   "cell_type": "code",
   "execution_count": 10,
   "metadata": {},
   "outputs": [],
   "source": [
    "cosmo.compute()"
   ]
  },
  {
   "cell_type": "code",
   "execution_count": 11,
   "metadata": {},
   "outputs": [],
   "source": [
    "cls = cosmo.lensed_cl(2000)"
   ]
  },
  {
   "cell_type": "code",
   "execution_count": 12,
   "metadata": {},
   "outputs": [
    {
     "name": "stdout",
     "output_type": "stream",
     "text": [
      "{'tt': array([0.00000000e+00, 0.00000000e+00, 1.61178430e-10, ...,\n",
      "       4.90822455e-17, 4.90328026e-17, 4.89832402e-17]), 'pp': array([0.00000000e+00, 0.00000000e+00, 9.48231397e-09, ...,\n",
      "       5.30783530e-22, 5.29027167e-22, 5.27277204e-22]), 'tp': array([0.00000000e+00, 0.00000000e+00, 5.21007409e-10, ...,\n",
      "       1.71932078e-22, 1.71736650e-22, 1.71533252e-22]), 'ell': array([   0,    1,    2, ..., 1998, 1999, 2000])}\n"
     ]
    }
   ],
   "source": [
    "print(cls)"
   ]
  },
  {
   "cell_type": "code",
   "execution_count": 13,
   "metadata": {},
   "outputs": [
    {
     "name": "stdout",
     "output_type": "stream",
     "text": [
      "\n",
      "        density_cl(lmax=-1, nofail=False)\n",
      "\n",
      "        Return a dictionary of the primary C_l for the matter\n",
      "\n",
      "        Parameters\n",
      "        ----------\n",
      "        lmax : int, optional\n",
      "            Define the maximum l for which the C_l will be returned (inclusively)\n",
      "        nofail: bool, optional\n",
      "            Check and enforce the computation of the lensing module beforehand\n",
      "\n",
      "        Returns\n",
      "        -------\n",
      "        cl : numpy array of numpy.ndarrays\n",
      "            Array that contains the list (in this order) of self correlation of\n",
      "            1st bin, then successive correlations (set by non_diagonal) to the\n",
      "            following bins, then self correlation of 2nd bin, etc. The array\n",
      "            starts at index_ct_dd.\n",
      "        \n"
     ]
    }
   ],
   "source": [
    "print(cosmo.density_cl.__doc__)"
   ]
  },
  {
   "cell_type": "code",
   "execution_count": 14,
   "metadata": {},
   "outputs": [
    {
     "data": {
      "text/plain": [
       "['Hubble',\n",
       " 'Neff',\n",
       " 'Omega0_cdm',\n",
       " 'Omega0_k',\n",
       " 'Omega0_m',\n",
       " 'Omega_Lambda',\n",
       " 'Omega_b',\n",
       " 'Omega_g',\n",
       " 'Omega_m',\n",
       " 'Omega_nu',\n",
       " 'T_cmb',\n",
       " '__call__',\n",
       " '__class__',\n",
       " '__delattr__',\n",
       " '__dir__',\n",
       " '__doc__',\n",
       " '__eq__',\n",
       " '__format__',\n",
       " '__ge__',\n",
       " '__getattribute__',\n",
       " '__gt__',\n",
       " '__hash__',\n",
       " '__init__',\n",
       " '__init_subclass__',\n",
       " '__le__',\n",
       " '__lt__',\n",
       " '__ne__',\n",
       " '__new__',\n",
       " '__pyx_vtable__',\n",
       " '__reduce__',\n",
       " '__reduce_ex__',\n",
       " '__repr__',\n",
       " '__setattr__',\n",
       " '__setstate__',\n",
       " '__sizeof__',\n",
       " '__str__',\n",
       " '__subclasshook__',\n",
       " '_check_task_dependency',\n",
       " '_fillparfile',\n",
       " '_pars_check',\n",
       " 'age',\n",
       " 'angular_distance',\n",
       " 'baryon_temperature',\n",
       " 'compute',\n",
       " 'density_cl',\n",
       " 'empty',\n",
       " 'get_background',\n",
       " 'get_current_derived_parameters',\n",
       " 'get_perturbations',\n",
       " 'get_pk',\n",
       " 'get_pk_and_k_and_z',\n",
       " 'get_pk_array',\n",
       " 'get_pk_cb',\n",
       " 'get_pk_cb_array',\n",
       " 'get_pk_cb_lin',\n",
       " 'get_pk_lin',\n",
       " 'get_primordial',\n",
       " 'get_thermodynamics',\n",
       " 'get_transfer',\n",
       " 'h',\n",
       " 'ionization_fraction',\n",
       " 'lensed_cl',\n",
       " 'luminosity_distance',\n",
       " 'n_s',\n",
       " 'nonlinear_method',\n",
       " 'nonlinear_scale',\n",
       " 'nonlinear_scale_cb',\n",
       " 'omega_b',\n",
       " 'pars',\n",
       " 'pk',\n",
       " 'pk_cb',\n",
       " 'pk_cb_lin',\n",
       " 'pk_lin',\n",
       " 'raw_cl',\n",
       " 'rs_drag',\n",
       " 'scale_independent_growth_factor',\n",
       " 'scale_independent_growth_factor_f',\n",
       " 'set',\n",
       " 'set_default',\n",
       " 'sigma',\n",
       " 'sigma8',\n",
       " 'sigma8_cb',\n",
       " 'sigma_cb',\n",
       " 'state',\n",
       " 'struct_cleanup',\n",
       " 'tau_reio',\n",
       " 'z_of_r',\n",
       " 'z_of_tau']"
      ]
     },
     "execution_count": 14,
     "metadata": {},
     "output_type": "execute_result"
    }
   ],
   "source": [
    "dir(cosmo)"
   ]
  },
  {
   "cell_type": "code",
   "execution_count": 15,
   "metadata": {},
   "outputs": [
    {
     "data": {
      "text/plain": [
       "{'tt': array([0.00000000e+00, 0.00000000e+00, 1.61177879e-10, ...,\n",
       "        9.98486521e-18, 9.93594098e-18, 9.88726248e-18]),\n",
       " 'pp': array([0.00000000e+00, 0.00000000e+00, 9.48231397e-09, ...,\n",
       "        1.14010165e-22, 1.13682492e-22, 1.13355905e-22]),\n",
       " 'tp': array([0.00000000e+00, 0.00000000e+00, 5.21007409e-10, ...,\n",
       "        2.50200119e-23, 2.55408921e-23, 2.60756730e-23]),\n",
       " 'ell': array([   0,    1,    2, ..., 2498, 2499, 2500])}"
      ]
     },
     "execution_count": 15,
     "metadata": {},
     "output_type": "execute_result"
    }
   ],
   "source": [
    "cosmo.raw_cl()"
   ]
  },
  {
   "cell_type": "code",
   "execution_count": 16,
   "metadata": {},
   "outputs": [
    {
     "data": {
      "text/plain": [
       "{'tt': array([0.00000000e+00, 0.00000000e+00, 1.61178430e-10, ...,\n",
       "        4.90822455e-17, 4.90328026e-17, 4.89832402e-17]),\n",
       " 'pp': array([0.00000000e+00, 0.00000000e+00, 9.48231397e-09, ...,\n",
       "        5.30783530e-22, 5.29027167e-22, 5.27277204e-22]),\n",
       " 'tp': array([0.00000000e+00, 0.00000000e+00, 5.21007409e-10, ...,\n",
       "        1.71932078e-22, 1.71736650e-22, 1.71533252e-22]),\n",
       " 'ell': array([   0,    1,    2, ..., 1998, 1999, 2000])}"
      ]
     },
     "execution_count": 16,
     "metadata": {},
     "output_type": "execute_result"
    }
   ],
   "source": [
    "cosmo.lensed_cl()"
   ]
  },
  {
   "cell_type": "code",
   "execution_count": 17,
   "metadata": {},
   "outputs": [],
   "source": [
    "params = {'output': 'tCl pCl lCl'}"
   ]
  },
  {
   "cell_type": "code",
   "execution_count": 18,
   "metadata": {},
   "outputs": [],
   "source": [
    "cosmo = Class()\n",
    "cosmo.set(params)\n",
    "cosmo.compute()"
   ]
  },
  {
   "cell_type": "code",
   "execution_count": 19,
   "metadata": {},
   "outputs": [],
   "source": [
    "cl = cosmo.raw_cl()\n",
    "l = cl['ell'][2:]"
   ]
  },
  {
   "cell_type": "code",
   "execution_count": 20,
   "metadata": {},
   "outputs": [
    {
     "data": {
      "text/plain": [
       "[<matplotlib.lines.Line2D at 0x12950f400>]"
      ]
     },
     "execution_count": 20,
     "metadata": {},
     "output_type": "execute_result"
    },
    {
     "data": {
      "image/png": "[encoded data removed]",
      "text/plain": [
       "<Figure size 432x288 with 1 Axes>"
      ]
     },
     "metadata": {
      "needs_background": "light"
     },
     "output_type": "display_data"
    }
   ],
   "source": [
    "plt.loglog(l, l*(l+1)/(2*np.pi)*cl['tt'][2:])"
   ]
  },
  {
   "cell_type": "code",
   "execution_count": 21,
   "metadata": {},
   "outputs": [
    {
     "data": {
      "text/plain": [
       "{'z': array([1.00000000e+14, 9.93048659e+13, 9.86145640e+13, ...,\n",
       "        1.37685206e-02, 6.68404613e-03, 0.00000000e+00]),\n",
       " 'proper time [Gyr]': array([7.55850363e-26, 7.66469305e-26, 7.77237432e-26, ...,\n",
       "        1.35980751e+01, 1.36990895e+01, 1.37953593e+01]),\n",
       " 'conf. time [Mpc]': array([4.63478500e-09, 4.66752681e-09, 4.70026862e-09, ...,\n",
       "        1.41041433e+04, 1.41354310e+04, 1.41650454e+04]),\n",
       " 'H [1/Mpc]': array([2.15754595e+22, 2.12765453e+22, 2.09817724e+22, ...,\n",
       "        2.26810692e-04, 2.26051453e-04, 2.25342560e-04]),\n",
       " 'comov. dist.': array([14165.04541243, 14165.04541243, 14165.04541243, ...,\n",
       "           60.90213826,    29.61446144,     0.        ]),\n",
       " 'ang.diam.dist.': array([1.41650454e-10, 1.42642007e-10, 1.43640501e-10, ...,\n",
       "        6.00749945e+01, 2.94178313e+01, 0.00000000e+00]),\n",
       " 'lum. dist.': array([1.41650454e+18, 1.40665794e+18, 1.39687978e+18, ...,\n",
       "        6.17406706e+01, 2.98124059e+01, 0.00000000e+00]),\n",
       " 'comov.snd.hrz.': array([2.67595816e-09, 2.69468987e-09, 2.71355270e-09, ...,\n",
       "        1.22944806e+03, 1.23014992e+03, 1.23081197e+03]),\n",
       " '(.)rho_g': array([2.75156054e+44, 2.67584646e+44, 2.60221579e+44, ...,\n",
       "        2.90625875e-12, 2.82586764e-12, 2.75156054e-12]),\n",
       " '(.)rho_b': array([2.45139060e+33, 2.40062379e+33, 2.35090832e+33, ...,\n",
       "        2.55404721e-09, 2.50087552e-09, 2.45139060e-09]),\n",
       " '(.)rho_cdm': array([1.33940814e+34, 1.31166981e+34, 1.28450592e+34, ...,\n",
       "        1.39549838e-08, 1.36644605e-08, 1.33940814e-08]),\n",
       " '(.)rho_lambda': array([3.49291424e-08, 3.49291424e-08, 3.49291424e-08, ...,\n",
       "        3.49291424e-08, 3.49291424e-08, 3.49291424e-08]),\n",
       " '(.)rho_ur': array([1.90344398e+44, 1.85106733e+44, 1.80013193e+44, ...,\n",
       "        2.01045939e-12, 1.95484732e-12, 1.90344398e-12]),\n",
       " '(.)rho_crit': array([4.65500451e+44, 4.52691379e+44, 4.40234771e+44, ...,\n",
       "        5.14430902e-08, 5.10992592e-08, 5.07792694e-08]),\n",
       " 'gr.fac. D': array([5.53686648e-20, 7.72460838e-08, 1.54492168e-07, ...,\n",
       "        9.92799613e-01, 9.96499973e-01, 1.00000000e+00]),\n",
       " 'gr.fac. f': array([2.00000000e+14, 1.43356562e+02, 7.16782808e+01, ...,\n",
       "        5.32639786e-01, 5.28356211e-01, 5.24291074e-01])}"
      ]
     },
     "execution_count": 21,
     "metadata": {},
     "output_type": "execute_result"
    }
   ],
   "source": [
    "cosmo.get_background()"
   ]
  },
  {
   "cell_type": "code",
   "execution_count": 24,
   "metadata": {},
   "outputs": [
    {
     "name": "stdout",
     "output_type": "stream",
     "text": [
      "1\n",
      "2\n",
      "3\n",
      "4\n",
      "5\n",
      "5\n",
      "6\n",
      "7\n"
     ]
    }
   ],
   "source": [
    "bin = [1,2,3,4,5,5,6,7,8]\n",
    "for elem in bin[:-1]:\n",
    "    print(elem)"
   ]
  },
  {
   "cell_type": "code",
   "execution_count": null,
   "metadata": {},
   "outputs": [],
   "source": []
  }
 ],
 "metadata": {
  "kernelspec": {
   "display_name": "Python 3",
   "language": "python",
   "name": "python3"
  },
  "language_info": {
   "codemirror_mode": {
    "name": "ipython",
    "version": 3
   },
   "file_extension": ".py",
   "mimetype": "text/x-python",
   "name": "python",
   "nbconvert_exporter": "python",
   "pygments_lexer": "ipython3",
   "version": "3.7.3"
  }
 },
 "nbformat": 4,
 "nbformat_minor": 2
}
