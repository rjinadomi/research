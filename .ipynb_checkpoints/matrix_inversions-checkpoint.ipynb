{
 "cells": [
  {
   "cell_type": "code",
   "execution_count": 1,
   "metadata": {},
   "outputs": [],
   "source": [
    "import numpy as np"
   ]
  },
  {
   "cell_type": "code",
   "execution_count": 2,
   "metadata": {},
   "outputs": [
    {
     "name": "stdout",
     "output_type": "stream",
     "text": [
      "[[0. 0. 0. 0. 0. 0.]\n",
      " [0. 0. 0. 0. 0. 0.]\n",
      " [0. 0. 0. 0. 0. 0.]\n",
      " [0. 0. 0. 0. 0. 0.]\n",
      " [0. 0. 0. 0. 0. 0.]\n",
      " [0. 0. 0. 0. 0. 0.]]\n"
     ]
    }
   ],
   "source": [
    "matrix = np.zeros((6, 6))\n",
    "print(matrix)"
   ]
  },
  {
   "cell_type": "code",
   "execution_count": 3,
   "metadata": {},
   "outputs": [
    {
     "name": "stdout",
     "output_type": "stream",
     "text": [
      "[[10.  9.  8.  7.  6.  5.]\n",
      " [11. 10.  9.  8.  7.  6.]\n",
      " [12. 11. 10.  9.  8.  7.]\n",
      " [13. 12. 11. 10.  9.  8.]\n",
      " [14. 13. 12. 11. 10.  9.]\n",
      " [15. 14. 13. 12. 11. 10.]]\n"
     ]
    }
   ],
   "source": [
    "for i in range(6):\n",
    "    for j in range(6):\n",
    "        matrix[i][j] = i+10-j\n",
    "print(matrix)"
   ]
  },
  {
   "cell_type": "code",
   "execution_count": 15,
   "metadata": {},
   "outputs": [
    {
     "name": "stdout",
     "output_type": "stream",
     "text": [
      "[[10.  9.  8.  7.  6.  5.]\n",
      " [11. 10.  9.  8.  7.  6.]\n",
      " [12. 11. 10.  9.  8.  7.]\n",
      " [13. 12. 11. 10.  9.  8.]\n",
      " [14. 13. 12. 11. 10.  9.]\n",
      " [15. 14. 13. 12. 11. 10.]]\n",
      "3.130954561673868e-59\n"
     ]
    }
   ],
   "source": [
    "a_matrix = np.matrix(matrix)\n",
    "print(a_matrix)\n",
    "print(np.linalg.det(a_matrix))"
   ]
  },
  {
   "cell_type": "code",
   "execution_count": 5,
   "metadata": {},
   "outputs": [
    {
     "name": "stdout",
     "output_type": "stream",
     "text": [
      "[[-5.60852003e+14  5.31480701e+14  4.26583195e+14 -1.04897507e+14\n",
      "  -3.91617359e+14  9.93029732e+13]\n",
      " [ 5.66446537e+14  5.10501200e+14 -7.90227885e+14 -7.37779132e+14\n",
      "  -1.02799557e+15  1.47905485e+15]\n",
      " [ 5.51061569e+14 -1.51052410e+15  2.09795014e+14  5.94419205e+14\n",
      "   1.46856510e+15 -1.31331679e+15]\n",
      " [-5.55257470e+14  4.47562696e+14  6.29385041e+13  1.78325762e+14\n",
      "   4.40569529e+14 -5.74139021e+14]\n",
      " [-4.19590027e+12 -1.06296140e+15  2.72733518e+14  1.33569492e+15\n",
      "   7.83234718e+14 -1.32450585e+15]\n",
      " [ 2.79726685e+12  1.08394090e+15 -1.81822345e+14 -1.26576325e+15\n",
      "  -1.27275642e+15  1.63360384e+15]]\n"
     ]
    }
   ],
   "source": [
    "inv = a_matrix.I\n",
    "print(inv)\n"
   ]
  },
  {
   "cell_type": "code",
   "execution_count": 6,
   "metadata": {},
   "outputs": [
    {
     "name": "stdout",
     "output_type": "stream",
     "text": [
      "[[ 22.    20.25  18.75  17.    15.25  13.  ]\n",
      " [-36.   -40.   -36.   -32.   -28.   -26.  ]\n",
      " [ 24.    16.    20.    20.    20.    18.  ]\n",
      " [  4.     4.     4.     2.     4.     3.  ]\n",
      " [-10.    -6.     0.    -4.    -2.    -1.  ]\n",
      " [  0.    -4.     2.     0.     2.    -2.  ]]\n"
     ]
    }
   ],
   "source": [
    "print(inv*a_matrix)"
   ]
  },
  {
   "cell_type": "code",
   "execution_count": 7,
   "metadata": {},
   "outputs": [
    {
     "name": "stdout",
     "output_type": "stream",
     "text": [
      "[[-0.16992188  0.          0.5         3.          2.          2.        ]\n",
      " [-0.86328125 -2.         -0.125       0.          2.          2.        ]\n",
      " [ 0.9453125  -1.         -0.25        2.          1.          0.        ]\n",
      " [-0.74609375 -1.          0.25        4.          0.          2.        ]\n",
      " [-0.5         0.          0.          4.          0.          8.        ]\n",
      " [-0.25        0.         -2.          4.          0.          0.        ]]\n"
     ]
    }
   ],
   "source": [
    "print(a_matrix*inv)"
   ]
  },
  {
   "cell_type": "code",
   "execution_count": 8,
   "metadata": {},
   "outputs": [],
   "source": [
    "mtx = np.matrix('3 4; 1 5')"
   ]
  },
  {
   "cell_type": "code",
   "execution_count": 9,
   "metadata": {},
   "outputs": [
    {
     "name": "stdout",
     "output_type": "stream",
     "text": [
      "[[3 4]\n",
      " [1 5]]\n"
     ]
    }
   ],
   "source": [
    "print(mtx)"
   ]
  },
  {
   "cell_type": "code",
   "execution_count": 10,
   "metadata": {},
   "outputs": [
    {
     "name": "stdout",
     "output_type": "stream",
     "text": [
      "[[1.00000000e+00 0.00000000e+00]\n",
      " [5.55111512e-17 1.00000000e+00]]\n",
      "[[1.00000000e+00 2.22044605e-16]\n",
      " [0.00000000e+00 1.00000000e+00]]\n"
     ]
    }
   ],
   "source": [
    "print(mtx*mtx.I)\n",
    "print(mtx.I*mtx)"
   ]
  },
  {
   "cell_type": "code",
   "execution_count": 14,
   "metadata": {},
   "outputs": [
    {
     "name": "stdout",
     "output_type": "stream",
     "text": [
      "11.000000000000002\n"
     ]
    }
   ],
   "source": [
    "print(np.linalg.det(mtx))"
   ]
  },
  {
   "cell_type": "code",
   "execution_count": null,
   "metadata": {},
   "outputs": [],
   "source": []
  }
 ],
 "metadata": {
  "kernelspec": {
   "display_name": "Python 3",
   "language": "python",
   "name": "python3"
  },
  "language_info": {
   "codemirror_mode": {
    "name": "ipython",
    "version": 3
   },
   "file_extension": ".py",
   "mimetype": "text/x-python",
   "name": "python",
   "nbconvert_exporter": "python",
   "pygments_lexer": "ipython3",
   "version": "3.7.3"
  }
 },
 "nbformat": 4,
 "nbformat_minor": 2
}
