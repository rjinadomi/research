{
 "cells": [
  {
   "cell_type": "markdown",
   "metadata": {},
   "source": [
    "# Fisher Information\n",
    "\n",
    "a collection of methods in order to calculate the fisher matrix"
   ]
  },
  {
   "cell_type": "code",
   "execution_count": 1,
   "metadata": {},
   "outputs": [],
   "source": [
    "import classy as cl\n",
    "from classy import Class\n",
    "import numpy as np\n",
    "import matplotlib.pyplot as plt\n",
    "import pickle\n",
    "\n",
    "pi = np.pi"
   ]
  },
  {
   "cell_type": "code",
   "execution_count": 36,
   "metadata": {},
   "outputs": [
    {
     "name": "stdout",
     "output_type": "stream",
     "text": [
      "0.67556\n"
     ]
    }
   ],
   "source": [
    "step_sizes = {\n",
    "    'omega_b': 0.0008,\n",
    "    'omega_cdm': 0.002,\n",
    "    '100*theta_s': 0.002,\n",
    "    'A_s': 1e-10,\n",
    "    'n_s': 0.01,\n",
    "    'tau_reio': 0.02\n",
    "}\n",
    "cosmo = Class()\n",
    "cosmo.compute()\n",
    "h = cosmo.h()\n",
    "cosmo.struct_cleanup()\n",
    "cosmo.empty()\n",
    "print(h)"
   ]
  },
  {
   "cell_type": "code",
   "execution_count": 3,
   "metadata": {},
   "outputs": [],
   "source": [
    "def quick_Pk_zbins(VolGpc, z_bins, k_MAX=0.7, add={'N_ur':3.046}):\n",
    "    z_string=''\n",
    "    for elem in z_bins[:-1]:\n",
    "        z_string+=str(elem)+','\n",
    "    z_string+=str(z_bins[-1])\n",
    "    k_MIN_Gpc=2*np.pi/float(VolGpc)**(1/3.)\n",
    "    k_MIN = k_MIN_Gpc*10**(-3)\n",
    "    \n",
    "    k_array = np.arange(k_MIN, k_MAX, k_MIN)\n",
    "    #define a dictionary with the parameters of desired cosmology\n",
    "    params = {\n",
    "        'output': 'tCl pCl lCl mPk',\n",
    "        'l_max_scalars': 5000,\n",
    "        'lensing': 'yes',\n",
    "        'A_s': 2.3e-9,\n",
    "        'n_s': 0.9624,\n",
    "        '100*theta_s': 1.042143,\n",
    "        'omega_b':0.022068,\n",
    "        'omega_cdm': 0.12029,\n",
    "        'tau_reio': 0.06\n",
    "    }\n",
    "    for key in add.keys():\n",
    "        params[key] = add[key]\n",
    "    params['z_pk'] = z_string\n",
    "    Pk = {}\n",
    "    wPk = {}\n",
    "    cosmo = Class()\n",
    "    cosmo.set(params)\n",
    "    cosmo.compute()\n",
    "    h = cosmo.h()\n",
    "    #there's no xrange in Python3\n",
    "    for z_k in z_bins:\n",
    "        Pk[z_k] = np.zeros(len(k_array))\n",
    "        for i in range(len(k_array)):\n",
    "            Pk[z_k][i] = cosmo.pk(h*k_array[i], z_k)*h**3\n",
    "    cosmo.struct_cleanup()\n",
    "    cosmo.empty()\n",
    "    return Pk,k_array,params"
   ]
  },
  {
   "cell_type": "code",
   "execution_count": 4,
   "metadata": {},
   "outputs": [],
   "source": [
    "def derivative(parameters, step_sizes, VolGpc, z_bins, k_MAX):\n",
    "    \"\"\"\n",
    "    Parameters\n",
    "    ---------\n",
    "    parameters : dictionary\n",
    "        contains the values of the parameters that will be used\n",
    "        to calculate the derivative\n",
    "    step_sizes : dictionary\n",
    "        contains the sizes of the steps that will be taken when\n",
    "        computing the different cosmos.\n",
    "    VolGpc : number\n",
    "        the value for the volume of the galaxy survey which will\n",
    "        be used as a parameter for quick_Pk_zbins\n",
    "    z_bins : list\n",
    "        the different bins of the redshift which will be used as\n",
    "        a parameter for quick_Pk_zbins\n",
    "    k_MAX : number\n",
    "        the maximum k value which will be used to calculate the\n",
    "        power spectrum in quick_Pk_zbins\n",
    "                \n",
    "    Returns\n",
    "    ------\n",
    "    partials : dictionary\n",
    "        contains a dictionary of dictionaries where the first\n",
    "        key value represents the redshift 'z' and then the\n",
    "        second key value represents the different parameters\n",
    "        which were stepped over for the derivative; the values\n",
    "        of the inner dictionary are arrays which are the\n",
    "        derivatives for the specified ks\n",
    "    k_array : array\n",
    "        contains the different k values for the power spectrum\n",
    "                \n",
    "    Function used to calculate the numerical derivative:\n",
    "                f'(param) = (f(param+h)-f(param-h))/(2h)\n",
    "        where h is the step size of some parameter param\n",
    "    \"\"\"\n",
    "    \n",
    "    partials = {}\n",
    "    \n",
    "    for z in z_bins:\n",
    "        add = {} #a parameter for quick_Pk_zbins\n",
    "        partials[z] = {}\n",
    "        for elem in step_sizes:\n",
    "            h = step_sizes[elem] #step size, not to be confused with Hubble constant\n",
    "            add[elem] = parameters[elem] + h\n",
    "            Pk_1, k_array, params_1 = quick_Pk_zbins(VolGpc, z_bins, k_MAX, add)\n",
    "\n",
    "            add[elem] = parameters[elem] - h\n",
    "            Pk_2, k_array, params_2 = quick_Pk_zbins(VolGpc, z_bins, k_MAX, add)\n",
    "        \n",
    "            partials[z][elem] = (Pk_1[z] - Pk_2[z])/(2*h)\n",
    "        #print(partials)\n",
    "    return partials, k_array"
   ]
  },
  {
   "cell_type": "markdown",
   "metadata": {},
   "source": [
    "With the derivative function, I want to run it only once as long as the step sizes for the parameters doesn't change. I can do this by pickling the resulting output and then using that in other functions."
   ]
  },
  {
   "cell_type": "markdown",
   "metadata": {},
   "source": [
    "The equation used to calculate the fisher matrix is given below:"
   ]
  },
  {
   "cell_type": "markdown",
   "metadata": {},
   "source": [
    "$$F_{ij} = \\int_{k_{min}}^{k_{max}} \\frac{dk k^2}{(2\\pi)^2} \\frac{\\partial P(k)}{\\partial \\theta_i} \\frac{\\partial P(k)}{\\partial \\theta_j} V_{eff}(k)$$"
   ]
  },
  {
   "cell_type": "markdown",
   "metadata": {},
   "source": [
    "where $$V_{eff}(k) \\approx \\left[ \\frac{\\bar{n_g}P_g(k)}{\\bar{n_g}P_g(k) + 1} \\right]^2 V$$"
   ]
  },
  {
   "cell_type": "code",
   "execution_count": 45,
   "metadata": {},
   "outputs": [],
   "source": [
    "def fisher_information(step_sizes, derivatives, Pk, k_array, z, galaxy_density, VolGpc):\n",
    "    \"\"\"\n",
    "    Parameters\n",
    "    ---------\n",
    "    step_sizes : dictionary\n",
    "        contains the different parameters that we will be\n",
    "        concerned with\n",
    "    derivatives : dictionary\n",
    "        contains the derivatives of the power spectrum with\n",
    "        respect to the parameters in step_sizes\n",
    "    Pk : dictionary\n",
    "        contains the power spectrum for the different\n",
    "        redshift values\n",
    "    k_array : list\n",
    "        all the associated k values in the power spectrum\n",
    "        derivatives\n",
    "    z : number\n",
    "        the redshift value we are concerned with\n",
    "    galaxy_density : number\n",
    "        the average number of galaxies per unit volume\n",
    "    VolGpc : number\n",
    "        the volume of the survey\n",
    "                \n",
    "    Returns\n",
    "    ------\n",
    "    fisher : dictionary\n",
    "        contains more dictionaries inside where each one will\n",
    "        represent a row in 2D matrix, due to the symmetry of\n",
    "        matrix, the order of calling row or col should result\n",
    "        in the same value being returned\n",
    "    \"\"\"\n",
    "    h = 0.67556 #hubble constant\n",
    "    \n",
    "    fisher = {} #initialize the fisher matrix (dictionary) to return\n",
    "    k_min = k_array[0]*h\n",
    "    \n",
    "    for row in step_sizes:\n",
    "        fisher[row] = {}\n",
    "        for col in step_sizes:\n",
    "            #print('row: ' + row,'col: ' + col)\n",
    "            value = 0\n",
    "            for k in range(len(k_array)):\n",
    "                V_eff = (1/(Pk[z][k] + 1/galaxy_density))**2*VolGpc*(10**9)*(h**3)\n",
    "                value += k_min*((k_array[k]*h)**2)/((2*pi)**2)*derivatives[z][row][k]*derivatives[z][col][k]*V_eff\n",
    "            fisher[row][col] = value\n",
    "    return fisher"
   ]
  },
  {
   "cell_type": "code",
   "execution_count": 6,
   "metadata": {},
   "outputs": [],
   "source": [
    "def matrix_maker(pseudo_matrix):\n",
    "    \"\"\"\n",
    "    Parameters\n",
    "    ---------\n",
    "    pseudo_matrix : dictionary\n",
    "        contains keys indicating the index of the row and the\n",
    "        values are nested dictionaries with their keys\n",
    "        indicating the index of the column and their values\n",
    "        being the actual value in the matrix\n",
    "        \n",
    "    Returns\n",
    "    ------\n",
    "    actual_matrix : matrix\n",
    "        a numpy matrix\n",
    "    indices : list\n",
    "        contains the order of each index of the matrix    \n",
    "    \"\"\"\n",
    "    \n",
    "    size = len(pseudo_matrix)\n",
    "    matrix = np.zeros((size, size))\n",
    "    \n",
    "    indices = []\n",
    "    for row, i in zip(pseudo_matrix, range(size)):\n",
    "        indices.append(row)\n",
    "        for col, j in zip(pseudo_matrix[row], range(size)):\n",
    "            matrix[i][j] = pseudo_matrix[row][col]\n",
    "    actual_matrix = np.matrix(matrix)\n",
    "    return actual_matrix, indices"
   ]
  },
  {
   "cell_type": "code",
   "execution_count": 7,
   "metadata": {},
   "outputs": [],
   "source": [
    "def find_sigma(fisher, indices):\n",
    "    \"\"\"\n",
    "    Parameters\n",
    "    ---------\n",
    "    fisher : matrix\n",
    "        a numpy matrix\n",
    "    indices : list\n",
    "        contains the order of each index of the matrix\n",
    "    \n",
    "    Returns\n",
    "    ------\n",
    "    sigma : dictionary\n",
    "        contains the list of all the parameters and their\n",
    "        associated error\n",
    "    \"\"\"\n",
    "    \n",
    "    sigma = {}\n",
    "    \n",
    "    cov = fisher.I\n",
    "    \n",
    "    for index, i in zip(indices, range(len(fisher))):\n",
    "        sigma[index] = str((cov.item((i, i)))**(1/2))\n",
    "        print('Error for ' + index + ' is : ' + sigma[index])\n",
    "    return sigma"
   ]
  },
  {
   "cell_type": "markdown",
   "metadata": {},
   "source": [
    "At this point, I think I have defined all the different methods I need in order to calculate the fisher information and find the error associated with the parameters we're concerned with. Moving forward, I will first calculate the derivatives and pickle it for use later, so that I don't have to compute it every time."
   ]
  },
  {
   "cell_type": "markdown",
   "metadata": {},
   "source": [
    "## Initial parameters we care about:"
   ]
  },
  {
   "cell_type": "code",
   "execution_count": 31,
   "metadata": {},
   "outputs": [],
   "source": [
    "step_sizes = {\n",
    "    'omega_b': 0.0008,\n",
    "    'omega_cdm': 0.002,\n",
    "    '100*theta_s': 0.002,\n",
    "    'A_s': 1e-10,\n",
    "    'n_s': 0.01,\n",
    "    'tau_reio': 0.02\n",
    "}\n",
    "parameters = {\n",
    "        'output': 'tCl pCl lCl mPk',\n",
    "        'l_max_scalars': 5000,\n",
    "        'lensing': 'yes',\n",
    "        'A_s': 2.3e-9,\n",
    "        'n_s': 0.9624,\n",
    "        '100*theta_s': 1.042143,\n",
    "        'omega_b':0.022068,\n",
    "        'omega_cdm': 0.12029,\n",
    "        'tau_reio': 0.06\n",
    "}\n",
    "VolGpc = 200\n",
    "z_bins = [0] #redshift values\n",
    "k_MAX = 0.7\n",
    "z = 0 #choosing redshift of zero\n",
    "galaxy_density = 10e-2 #number of galaxies in a Megaparsec^3"
   ]
  },
  {
   "cell_type": "markdown",
   "metadata": {},
   "source": [
    "Here we will calculate the derivatives and save it in case we want to reuse the data later."
   ]
  },
  {
   "cell_type": "code",
   "execution_count": 9,
   "metadata": {
    "scrolled": true
   },
   "outputs": [],
   "source": [
    "# derivatives, k_array = derivative(parameters, step_sizes, VolGpc, z_bins, k_MAX)\n",
    "# filename = 'dfile'\n",
    "# outfile = open(filename, 'wb')\n",
    "# pickle.dump(derivatives, outfile)\n",
    "# outfile.close()"
   ]
  },
  {
   "cell_type": "code",
   "execution_count": 10,
   "metadata": {
    "scrolled": true
   },
   "outputs": [],
   "source": [
    "#print(derivatives)"
   ]
  },
  {
   "cell_type": "code",
   "execution_count": 11,
   "metadata": {},
   "outputs": [],
   "source": [
    "filename = 'dfile'\n",
    "infile = open(filename, 'rb')\n",
    "derivatives = pickle.load(infile)\n",
    "infile.close()\n",
    "Pk, k_array, params = quick_Pk_zbins(VolGpc, z_bins, k_MAX)"
   ]
  },
  {
   "cell_type": "code",
   "execution_count": 46,
   "metadata": {},
   "outputs": [
    {
     "name": "stdout",
     "output_type": "stream",
     "text": [
      "Error for omega_b is : 0.0011600675169930789\n",
      "Error for omega_cdm is : 0.0019587107654927354\n",
      "Error for 100*theta_s is : 0.00153477858698553\n",
      "Error for A_s is : 1.5749075489056804e-11\n",
      "Error for n_s is : 0.001702723747091209\n",
      "Error for tau_reio is : 0.42002525648636957\n"
     ]
    }
   ],
   "source": [
    "fisher = fisher_information(step_sizes, derivatives, Pk, k_array, z, galaxy_density, VolGpc)\n",
    "matrix, indices = matrix_maker(fisher)\n",
    "#print(matrix)\n",
    "sigma = find_sigma(matrix, indices)"
   ]
  },
  {
   "cell_type": "code",
   "execution_count": 13,
   "metadata": {},
   "outputs": [
    {
     "name": "stdout",
     "output_type": "stream",
     "text": [
      "{'output': 'tCl pCl lCl mPk', 'l_max_scalars': 5000, 'lensing': 'yes', 'A_s': 2.3e-09, 'n_s': 0.9624, '100*theta_s': 1.042143, 'omega_b': 0.022068, 'omega_cdm': 0.12029, 'tau_reio': 0.06}\n"
     ]
    }
   ],
   "source": [
    "print(parameters)"
   ]
  },
  {
   "cell_type": "code",
   "execution_count": 49,
   "metadata": {},
   "outputs": [
    {
     "data": {
      "image/png": "[encoded data removed]",
      "text/plain": [
       "<Figure size 432x288 with 1 Axes>"
      ]
     },
     "metadata": {
      "needs_background": "light"
     },
     "output_type": "display_data"
    }
   ],
   "source": [
    "plt.plot(k_array, Pk[0])\n",
    "plt.xscale('log')\n",
    "plt.yscale('log')"
   ]
  },
  {
   "cell_type": "code",
   "execution_count": null,
   "metadata": {},
   "outputs": [],
   "source": []
  }
 ],
 "metadata": {
  "kernelspec": {
   "display_name": "Python 3",
   "language": "python",
   "name": "python3"
  },
  "language_info": {
   "codemirror_mode": {
    "name": "ipython",
    "version": 3
   },
   "file_extension": ".py",
   "mimetype": "text/x-python",
   "name": "python",
   "nbconvert_exporter": "python",
   "pygments_lexer": "ipython3",
   "version": "3.7.3"
  }
 },
 "nbformat": 4,
 "nbformat_minor": 2
}
