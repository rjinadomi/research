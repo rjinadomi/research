{
 "cells": [
  {
   "cell_type": "code",
   "execution_count": 1,
   "metadata": {},
   "outputs": [],
   "source": [
    "import numpy as np\n",
    "import classy as cl\n",
    "from classy import Class\n",
    "import matplotlib.pyplot as plt\n",
    "import pickle\n",
    "#import derivatives as dv\n",
    "pi=np.pi\n",
    "\n",
    "from scipy.integrate import quad\n",
    "from scipy import integrate\n",
    "import time\n",
    "from scipy.interpolate import interp1d\n",
    "hbar=6.58*10**(-16)  # eV s units\n",
    "eq=0.302 # electric charge\n",
    "alpha=eq**2/(4*np.pi)\n",
    "Mpl=2.435*10**(18)\n",
    "c=2.998*10**5 #km/s\n",
    "ccm=2.998*10**(10) #cm/s\n",
    "\n",
    "############ Rewritten to be in h / Mpc Units #####################\n",
    "\n",
    "\n",
    "\n",
    "h=.678\n",
    "OmegaL=0.692\n",
    "OmegaM=0.308\n",
    "H100=100/(3.086*10**(19.))*hbar  # 100 km/s/Mpc *(1 Mpc/3.086*10^19 km) * hbar(s eV) -> eV\n",
    "rhoc = 3*((Mpl*10**(9))**2)*(h**2)*(H100**2) #in eV^(4), need to convert Mpl in GeV to eV\n",
    "kB= 8.617*10**(-5) #boltzmann's constant in eV / K\n",
    "Tgamma=2.725*kB\n",
    "rhogamma= 2*(np.pi**2)*(Tgamma**4)/(30.)\n",
    "OmegaR=rhogamma/rhoc\n",
    "\n",
    "Stepsize = {\n",
    "    'A_s': 0.1e-9,\n",
    "    'n_s': 0.01,\n",
    "    '100*theta_s': 0.005,\n",
    "    'omega_b': 0.0008,\n",
    "    'omega_cdm': 0.003,\n",
    "    'tau_reio':0.02,\n",
    "    'N_ur':0.03}\n",
    "\n",
    "def H(a):\n",
    "    return h*H100*np.sqrt(OmegaR*a**(-4) + OmegaM*a**(-3)+OmegaL)/hbar\n",
    "def HMpc(a):\n",
    "    return h*100*np.sqrt(OmegaR*a**(-4) + OmegaM*a**(-3)+OmegaL)  # returns H(a)  in km/s / Mpc\n",
    "\n",
    "Spheredeg2=360**2/pi\n",
    "\n",
    "def ztoa(z):\n",
    "    return 1./(1.+z)\n",
    "\n",
    "def distanceMpc(z):\n",
    "    temp=quad(lambda x:1/(x*x*HMpc(x)),ztoa(z),1)[0]\n",
    "    return temp*3*10.**(5.)*h\n",
    "#return temp*3*10.**(5.)\n",
    "\n",
    "def shell(z,Deltaz):\n",
    "    temp=quad(lambda x:1/(x*x*HMpc(x)),ztoa(z+Deltaz),ztoa(z))[0]\n",
    "    return temp*3*10.**(5.)*h\n",
    "#return temp*3*10.**(5.)\n",
    "\n",
    "def shellV(z,Deltaz,deg2):\n",
    "    return 4*pi*shell(z,Deltaz)*distanceMpc(z)**2*deg2/Spheredeg2\n",
    "\n",
    "def Dt(z):\n",
    "    temp1=quad(lambda x:1/((x*HMpc(x)/100.)**3),0.0001,ztoa(z))[0]\n",
    "    temp2=quad(lambda x:1/((x*HMpc(x)/100.)**3),0.0001,1)[0]\n",
    "    return (temp1/temp2)*(HMpc(ztoa(z))/HMpc(1.))\n",
    "\n",
    "def Dta(a):\n",
    "    temp1=quad(lambda x:1/((x*HMpc(x)/100.)**3),0.0001,a)[0]\n",
    "    temp2=quad(lambda x:1/((x*HMpc(x)/100.)**3),0.0001,1)[0]\n",
    "    return (temp1/temp2)*(HMpc(a)/HMpc(1.))\n",
    "\n",
    "\n",
    "def ng_z_bins(deg2,zmax,Nobs,z_space=0.1):\n",
    "    z_bins=np.arange(z_space,zmax,z_space)\n",
    "    ng_bins={}\n",
    "    vol_tot=0\n",
    "    for z in z_bins:\n",
    "        vol_tot+=shellV(z,z_space,deg2)\n",
    "    for z_j in z_bins:\n",
    "        ng_bins[z_j]=Nobs/vol_tot\n",
    "    return z_bins,ng_bins,vol_tot"
   ]
  },
  {
   "cell_type": "code",
   "execution_count": 2,
   "metadata": {},
   "outputs": [],
   "source": [
    "def partition(deg2, z_min, z_max, dz, num_gal):\n",
    "    Spheredeg2=360**2/pi\n",
    "    frac_sky = deg2/Spheredeg2\n",
    "    z_bins = np.arange(z_min, z_max + dz, dz) # +dz makes it inclusive\n",
    "    vol_bins = np.zeros(len(z_bins))\n",
    "    gal_bins = np.zeros(len(z_bins))\n",
    "\n",
    "    vol = 0\n",
    "    for z, i in zip(z_bins, range(len(z_bins))):\n",
    "        vol_bins[i] = shellV(z, dz, deg2)\n",
    "        vol += vol_bins[i]\n",
    "        #Units of Mpc/h\n",
    "    print(vol)\n",
    "    gal_den = num_gal/vol\n",
    "    \n",
    "    #this calculates the number of galaxies needed to be in each bin, so that the galaxy densities are the\n",
    "    #same in each bin (this is an approximation)\n",
    "    for i in range(len(gal_bins)):\n",
    "        gal_bins[i] = gal_den*vol_bins[i]\n",
    "\n",
    "    return z_bins, vol_bins, gal_bins\n"
   ]
  },
  {
   "cell_type": "code",
   "execution_count": 3,
   "metadata": {},
   "outputs": [
    {
     "name": "stdout",
     "output_type": "stream",
     "text": [
      "7237301921.031078\n"
     ]
    },
    {
     "data": {
      "text/plain": [
       "(array([0.05, 0.15, 0.25, 0.35, 0.45, 0.55, 0.65, 0.75]),\n",
       " array([1.91303145e+07, 1.55564384e+08, 3.88378266e+08, 6.81511131e+08,\n",
       "        1.00599327e+09, 1.33993188e+09, 1.66774420e+09, 1.97904849e+09]),\n",
       " array([  3700.61117498,  30092.72523355,  75128.7673008 , 131833.04956786,\n",
       "        194601.60533628, 259199.44334037, 322612.19699248, 382831.60105368]))"
      ]
     },
     "execution_count": 3,
     "metadata": {},
     "output_type": "execute_result"
    }
   ],
   "source": [
    "partition(10000, 0.05, 0.75, 0.1, 1.4e6)"
   ]
  },
  {
   "cell_type": "code",
   "execution_count": 59,
   "metadata": {},
   "outputs": [
    {
     "data": {
      "text/plain": [
       "7.237301921031082"
      ]
     },
     "execution_count": 59,
     "metadata": {},
     "output_type": "execute_result"
    }
   ],
   "source": [
    "shellV(0.05,0.1,10000)/1e9+shellV(0.15,0.1,10000)/1e9+shellV(0.25,0.1,10000)/1e9+shellV(0.35,0.1,10000)/1e9+shellV(0.45,0.1,10000)/1e9+shellV(0.55,0.1,10000)/1e9+shellV(0.65,0.1,10000)/1e9+shellV(0.75,0.1,10000)/1e9\n"
   ]
  },
  {
   "cell_type": "code",
   "execution_count": 31,
   "metadata": {},
   "outputs": [
    {
     "data": {
      "text/plain": [
       "[<matplotlib.lines.Line2D at 0x181a596710>]"
      ]
     },
     "execution_count": 31,
     "metadata": {},
     "output_type": "execute_result"
    },
    {
     "data": {
      "image/png": "[encoded data removed]",
      "text/plain": [
       "<Figure size 432x288 with 1 Axes>"
      ]
     },
     "metadata": {
      "needs_background": "light"
     },
     "output_type": "display_data"
    }
   ],
   "source": [
    "x = np.arange(0,10,0.1)\n",
    "y = [shellV(z, 0.1, 10000) for z in x]\n",
    "x = x**2\n",
    "plt.plot(x,y)"
   ]
  },
  {
   "cell_type": "code",
   "execution_count": 56,
   "metadata": {},
   "outputs": [
    {
     "data": {
      "text/plain": [
       "0.6451612903225806"
      ]
     },
     "execution_count": 56,
     "metadata": {},
     "output_type": "execute_result"
    }
   ],
   "source": [
    "1/(1+0.5+0.05)"
   ]
  },
  {
   "cell_type": "code",
   "execution_count": 57,
   "metadata": {},
   "outputs": [
    {
     "data": {
      "text/plain": [
       "0.6666666666666666"
      ]
     },
     "execution_count": 57,
     "metadata": {},
     "output_type": "execute_result"
    }
   ],
   "source": [
    "1/(1+0.5)"
   ]
  },
  {
   "cell_type": "code",
   "execution_count": null,
   "metadata": {},
   "outputs": [],
   "source": []
  }
 ],
 "metadata": {
  "kernelspec": {
   "display_name": "Python 3",
   "language": "python",
   "name": "python3"
  },
  "language_info": {
   "codemirror_mode": {
    "name": "ipython",
    "version": 3
   },
   "file_extension": ".py",
   "mimetype": "text/x-python",
   "name": "python",
   "nbconvert_exporter": "python",
   "pygments_lexer": "ipython3",
   "version": "3.7.3"
  }
 },
 "nbformat": 4,
 "nbformat_minor": 2
}
